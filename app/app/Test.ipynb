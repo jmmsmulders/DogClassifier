{
 "cells": [
  {
   "cell_type": "code",
   "execution_count": 8,
   "id": "22a2be8b",
   "metadata": {},
   "outputs": [],
   "source": [
    "from glob import glob\n",
    "import re"
   ]
  },
  {
   "cell_type": "code",
   "execution_count": 20,
   "id": "f4a0f9b9",
   "metadata": {},
   "outputs": [
    {
     "data": {
      "text/plain": [
       "'../static/dogsZ.Xoloitzcuintli\\\\Xoloitzcuintli_08281.jpg'"
      ]
     },
     "execution_count": 20,
     "metadata": {},
     "output_type": "execute_result"
    }
   ],
   "source": [
    "s = \"../../app/app/static/dogs\\132.Xoloitzcuintli\\Xoloitzcuintli_08281.jpg\"\n",
    "\n",
    "\"..\" + s[13:]"
   ]
  }
 ],
 "metadata": {
  "kernelspec": {
   "display_name": "Python 3 (ipykernel)",
   "language": "python",
   "name": "python3"
  },
  "language_info": {
   "codemirror_mode": {
    "name": "ipython",
    "version": 3
   },
   "file_extension": ".py",
   "mimetype": "text/x-python",
   "name": "python",
   "nbconvert_exporter": "python",
   "pygments_lexer": "ipython3",
   "version": "3.9.13"
  }
 },
 "nbformat": 4,
 "nbformat_minor": 5
}
